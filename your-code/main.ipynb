{
 "cells": [
  {
   "cell_type": "markdown",
   "id": "576731f7",
   "metadata": {},
   "source": [
    "**Example:**\n",
    "\n",
    "eggs = (1,3,8,3,2)\n",
    "\n",
    "my_listComprehension = [1/egg for egg in eggs]\n",
    "\n",
    "print(my_listComprehension)\n"
   ]
  },
  {
   "cell_type": "markdown",
   "id": "cf2623ae",
   "metadata": {},
   "source": [
    "# Insert here the module/library import statements "
   ]
  },
  {
   "cell_type": "code",
   "execution_count": 3,
   "id": "630d7e4d",
   "metadata": {},
   "outputs": [],
   "source": [
    "import math\n",
    "import os\n",
    "import random"
   ]
  },
  {
   "cell_type": "markdown",
   "id": "59d96563",
   "metadata": {},
   "source": [
    "\n",
    "# Calculate the square number of the first 20 numbers. Use square as the name of the list.\n",
    "Remember to use list comprehensions and to print your results"
   ]
  },
  {
   "cell_type": "markdown",
   "id": "1207cb2c",
   "metadata": {},
   "source": []
  },
  {
   "cell_type": "markdown",
   "id": "b421e0cb",
   "metadata": {},
   "source": [
    "# Calculate the square root of the first 100 numbers. Use sqrt as the name of the list.\n",
    "You will probably need to install math library with pip and import it in this file.\n",
    "\n",
    "Remember to use list comprehensions and to print your results\n"
   ]
  },
  {
   "cell_type": "code",
   "execution_count": 4,
   "id": "c047115a",
   "metadata": {},
   "outputs": [
    {
     "name": "stdout",
     "output_type": "stream",
     "text": [
      "[0.0, 1.0, 1.4142135623730951, 1.7320508075688772, 2.0, 2.23606797749979, 2.449489742783178, 2.6457513110645907, 2.8284271247461903, 3.0, 3.1622776601683795, 3.3166247903554, 3.4641016151377544, 3.605551275463989, 3.7416573867739413, 3.872983346207417, 4.0, 4.123105625617661, 4.242640687119285, 4.358898943540674, 4.47213595499958, 4.58257569495584, 4.69041575982343, 4.795831523312719, 4.898979485566356, 5.0, 5.0990195135927845, 5.196152422706632, 5.291502622129181, 5.385164807134504, 5.477225575051661, 5.5677643628300215, 5.656854249492381, 5.744562646538029, 5.830951894845301, 5.916079783099616, 6.0, 6.082762530298219, 6.164414002968976, 6.244997998398398, 6.324555320336759, 6.4031242374328485, 6.48074069840786, 6.557438524302, 6.6332495807108, 6.708203932499369, 6.782329983125268, 6.855654600401044, 6.928203230275509, 7.0, 7.0710678118654755, 7.14142842854285, 7.211102550927978, 7.280109889280518, 7.3484692283495345, 7.416198487095663, 7.483314773547883, 7.54983443527075, 7.615773105863909, 7.681145747868608, 7.745966692414834, 7.810249675906654, 7.874007874011811, 7.937253933193772, 8.0, 8.06225774829855, 8.12403840463596, 8.18535277187245, 8.246211251235321, 8.306623862918075, 8.366600265340756, 8.426149773176359, 8.48528137423857, 8.54400374531753, 8.602325267042627, 8.660254037844387, 8.717797887081348, 8.774964387392123, 8.831760866327848, 8.888194417315589, 8.94427190999916, 9.0, 9.055385138137417, 9.1104335791443, 9.16515138991168, 9.219544457292887, 9.273618495495704, 9.327379053088816, 9.38083151964686, 9.433981132056603, 9.486832980505138, 9.539392014169456, 9.591663046625438, 9.643650760992955, 9.695359714832659, 9.746794344808963, 9.797958971132712, 9.848857801796104, 9.899494936611665, 9.9498743710662]\n"
     ]
    }
   ],
   "source": [
    "sqrt=[math.sqrt(x) for x in range(100)]\n",
    "print(sqrt)\n"
   ]
  },
  {
   "cell_type": "markdown",
   "id": "f4bfca8d",
   "metadata": {},
   "source": [
    "\n",
    "# Create this list [-10,-9,-8,-7,-6,-5,-4,-3,-2,-1,0]. Use my_list as the name of the list.\n",
    "Remember to use list comprehensions and to print your results"
   ]
  },
  {
   "cell_type": "code",
   "execution_count": 5,
   "id": "e23d87ea",
   "metadata": {},
   "outputs": [
    {
     "name": "stdout",
     "output_type": "stream",
     "text": [
      "[-10, -9, -8, -7, -6, -5, -4, -3, -2, -1, 0]\n"
     ]
    }
   ],
   "source": [
    "my_list=[x for x in range(-10,1,1)]\n",
    "print(my_list)"
   ]
  },
  {
   "cell_type": "markdown",
   "id": "62592d9c",
   "metadata": {},
   "source": [
    "\n",
    "# Find the odd numbers from 1-100. Use odds as the name of the list. \n",
    "Remember to use list comprehensions and to print your results"
   ]
  },
  {
   "cell_type": "code",
   "execution_count": 6,
   "id": "d8d1c865",
   "metadata": {},
   "outputs": [
    {
     "name": "stdout",
     "output_type": "stream",
     "text": [
      "[1, 3, 5, 7, 9, 11, 13, 15, 17, 19, 21, 23, 25, 27, 29, 31, 33, 35, 37, 39, 41, 43, 45, 47, 49, 51, 53, 55, 57, 59, 61, 63, 65, 67, 69, 71, 73, 75, 77, 79, 81, 83, 85, 87, 89, 91, 93, 95, 97, 99]\n"
     ]
    }
   ],
   "source": [
    "odds=[x for x in range(100) if x%2==True]\n",
    "print(odds)"
   ]
  },
  {
   "cell_type": "markdown",
   "id": "d8b74c2a",
   "metadata": {},
   "source": [
    "# Find all of the numbers from 1-1000 that are divisible by 7. Use divisible_by_seven as the name of the list.\n",
    "Remember to use list comprehensions and to print your results"
   ]
  },
  {
   "cell_type": "code",
   "execution_count": 7,
   "id": "6a9cfb8c",
   "metadata": {},
   "outputs": [
    {
     "name": "stdout",
     "output_type": "stream",
     "text": [
      "[0, 7, 14, 21, 28, 35, 42, 49, 56, 63, 70, 77, 84, 91, 98, 105, 112, 119, 126, 133, 140, 147, 154, 161, 168, 175, 182, 189, 196, 203, 210, 217, 224, 231, 238, 245, 252, 259, 266, 273, 280, 287, 294, 301, 308, 315, 322, 329, 336, 343, 350, 357, 364, 371, 378, 385, 392, 399, 406, 413, 420, 427, 434, 441, 448, 455, 462, 469, 476, 483, 490, 497, 504, 511, 518, 525, 532, 539, 546, 553, 560, 567, 574, 581, 588, 595, 602, 609, 616, 623, 630, 637, 644, 651, 658, 665, 672, 679, 686, 693, 700, 707, 714, 721, 728, 735, 742, 749, 756, 763, 770, 777, 784, 791, 798, 805, 812, 819, 826, 833, 840, 847, 854, 861, 868, 875, 882, 889, 896, 903, 910, 917, 924, 931, 938, 945, 952, 959, 966, 973, 980, 987, 994]\n"
     ]
    }
   ],
   "source": [
    "divisible_by_seven=[x for x in range(1000) if x%7==False]\n",
    "print(divisible_by_seven)\n"
   ]
  },
  {
   "cell_type": "markdown",
   "id": "6e6f21e0",
   "metadata": {},
   "source": [
    "# Remove all of the vowels in a string. Hint: make a list of the non-vowels. Use non_vowels as the name of the list.\n",
    "Remember to use list comprehensions and to print your results"
   ]
  },
  {
   "cell_type": "code",
   "execution_count": 8,
   "id": "43b38bd3",
   "metadata": {},
   "outputs": [],
   "source": [
    "# You can use the following test string but feel free to modify at your convenience\n",
    "\n",
    "teststring = 'Find all of the words in a string that are monosyllabic'"
   ]
  },
  {
   "cell_type": "code",
   "execution_count": 9,
   "id": "d5fc7426",
   "metadata": {},
   "outputs": [
    {
     "name": "stdout",
     "output_type": "stream",
     "text": [
      "['i', 'a', 'o', 'e', 'o', 'i', 'a', 'i', 'a', 'a', 'e', 'o', 'o', 'a', 'i']\n"
     ]
    }
   ],
   "source": [
    "vowels=['a','e','i','o','u']\n",
    "non_vowels=[x for x in teststring if x in vowels]\n",
    "print(non_vowels)"
   ]
  },
  {
   "cell_type": "markdown",
   "id": "277d491e",
   "metadata": {},
   "source": [
    "# Find the capital letters (and not white space) in the sentence 'The Quick Brown Fox Jumped Over The Lazy Dog'. \n",
    "- **Use capital_letters as the name of the list.**\n",
    "\n",
    "Remember to use list comprehensions and to print your results"
   ]
  },
  {
   "cell_type": "code",
   "execution_count": 10,
   "id": "3a43399c",
   "metadata": {},
   "outputs": [
    {
     "name": "stdout",
     "output_type": "stream",
     "text": [
      "['T', 'Q', 'B', 'F', 'J', 'O', 'T', 'L', 'D']\n"
     ]
    }
   ],
   "source": [
    "string='The Quick Brown Fox Jumped Over The Lazy Dog'\n",
    "cap_letters=[x for x in string  if x.isupper()]\n",
    "print(cap_letters)"
   ]
  },
  {
   "cell_type": "markdown",
   "id": "c2603719",
   "metadata": {},
   "source": [
    "# Find all the consonants in the sentence 'The quick brown fox jumped over the lazy dog'.\n",
    " - **Use consonants as the name of the list.**\n",
    " \n",
    "Remember to use list comprehensions and to print your results.\n"
   ]
  },
  {
   "cell_type": "code",
   "execution_count": 11,
   "id": "3ddb68df",
   "metadata": {},
   "outputs": [
    {
     "name": "stdout",
     "output_type": "stream",
     "text": [
      "['T', 'h', 'Q', 'c', 'k', 'B', 'r', 'w', 'n', 'F', 'x', 'J', 'm', 'p', 'd', 'O', 'v', 'r', 'T', 'h', 'L', 'z', 'y', 'D', 'g']\n"
     ]
    }
   ],
   "source": [
    "consonants=[x for x in string.replace(' ','') if x not in vowels]\n",
    "print(consonants)"
   ]
  },
  {
   "cell_type": "markdown",
   "id": "0f9c4004",
   "metadata": {},
   "source": [
    "# Find the folders you have in your madrid-oct-2018 local repo. Use files as name of the list.  \n",
    "\n",
    "**Hint: You will probably need to import os library and some of its modules. You will need to make some online research.**\n",
    "\n",
    "Remember to use list comprehensions and to print your results."
   ]
  },
  {
   "cell_type": "code",
   "execution_count": 12,
   "id": "22bb13eb",
   "metadata": {},
   "outputs": [
    {
     "name": "stdout",
     "output_type": "stream",
     "text": [
      "['dia1', 'dia2', 'dia3', 'dia4']\n"
     ]
    }
   ],
   "source": [
    "docs=[x for x in os.listdir(r'C:\\Users\\Alberto\\git_yo')]\n",
    "print(docs)"
   ]
  },
  {
   "cell_type": "markdown",
   "id": "2cdaa518",
   "metadata": {},
   "source": [
    "# Create 4 lists of 10 random numbers between 0 and 100 each. Use random_lists as the name of the list. \n",
    "**Hint: You will probably need to import random module**\n",
    "\n",
    "Remember to use list comprehensions and to print your results"
   ]
  },
  {
   "cell_type": "code",
   "execution_count": 13,
   "id": "120b29bd",
   "metadata": {},
   "outputs": [
    {
     "name": "stdout",
     "output_type": "stream",
     "text": [
      "[[43, 70, 69, 54, 61, 21, 8, 32, 90, 69], [67, 57, 93, 78, 14, 33, 57, 4, 43, 23], [29, 7, 26, 12, 86, 18, 80, 28, 30, 62], [5, 73, 43, 53, 16, 21, 66, 86, 37, 51]]\n"
     ]
    }
   ],
   "source": [
    "rdmlst=[random.choices(range(100),k=10) for x in range(4) ]\n",
    "print(rdmlst)"
   ]
  },
  {
   "cell_type": "markdown",
   "id": "b76ea171",
   "metadata": {},
   "source": [
    "# Flatten the following list of lists. Use flatten_list as the name of the output.\n",
    "\n",
    "Remember to use list comprehensions and to print your results\n"
   ]
  },
  {
   "cell_type": "code",
   "execution_count": 14,
   "id": "b3afebb7",
   "metadata": {},
   "outputs": [],
   "source": [
    "list_of_lists = [[1,2,3],[4,5,6],[7,8,9]]"
   ]
  },
  {
   "cell_type": "code",
   "execution_count": 15,
   "id": "b6bcef37",
   "metadata": {},
   "outputs": [
    {
     "name": "stdout",
     "output_type": "stream",
     "text": [
      "[1, 2, 3, 4, 5, 6, 7, 8, 9]\n"
     ]
    }
   ],
   "source": [
    "flatten_list = [y for x in list_of_lists for y in x]\n",
    "print(flatten_list)"
   ]
  },
  {
   "cell_type": "markdown",
   "id": "53c86611",
   "metadata": {},
   "source": [
    "\n",
    "# Convert the numbers of the following nested list to floats. Use floats as the name of the list. \n",
    "\n",
    "Remember to use list comprehensions and to print your results."
   ]
  },
  {
   "cell_type": "code",
   "execution_count": 16,
   "id": "7087f44e",
   "metadata": {},
   "outputs": [],
   "source": [
    "list_of_lists = [['40', '20', '10', '30'], ['20', '20', '20', '20', '20', '30', '20'], \\\n",
    "['30', '20', '30', '50', '10', '30', '20', '20', '20'], ['100', '100'], ['100', '100', '100', '100', '100'], \\\n",
    "['100', '100', '100', '100']]"
   ]
  },
  {
   "cell_type": "code",
   "execution_count": 17,
   "id": "b85dadad",
   "metadata": {},
   "outputs": [
    {
     "name": "stdout",
     "output_type": "stream",
     "text": [
      "[40.0, 20.0, 10.0, 30.0, 20.0, 20.0, 20.0, 20.0, 20.0, 30.0, 20.0, 30.0, 20.0, 30.0, 50.0, 10.0, 30.0, 20.0, 20.0, 20.0, 100.0, 100.0, 100.0, 100.0, 100.0, 100.0, 100.0, 100.0, 100.0, 100.0, 100.0]\n"
     ]
    }
   ],
   "source": [
    "floats=[float(y) for x in list_of_lists for y in x]\n",
    "print(floats)"
   ]
  },
  {
   "cell_type": "markdown",
   "id": "62272da6",
   "metadata": {},
   "source": [
    "# Handle the exception thrown by the code below by using try and except blocks. \n"
   ]
  },
  {
   "cell_type": "code",
   "execution_count": 18,
   "id": "b5980ab4",
   "metadata": {},
   "outputs": [
    {
     "ename": "SyntaxError",
     "evalue": "Missing parentheses in call to 'print'. Did you mean print(i**2)? (3439384179.py, line 2)",
     "output_type": "error",
     "traceback": [
      "\u001b[1;36m  Input \u001b[1;32mIn [18]\u001b[1;36m\u001b[0m\n\u001b[1;33m    print i**2\u001b[0m\n\u001b[1;37m          ^\u001b[0m\n\u001b[1;31mSyntaxError\u001b[0m\u001b[1;31m:\u001b[0m Missing parentheses in call to 'print'. Did you mean print(i**2)?\n"
     ]
    }
   ],
   "source": [
    "for i in ['a','b','c']:\n",
    "    print i**2"
   ]
  },
  {
   "cell_type": "code",
   "execution_count": null,
   "id": "3605fc78",
   "metadata": {},
   "outputs": [
    {
     "name": "stdout",
     "output_type": "stream",
     "text": [
      "nope\n"
     ]
    }
   ],
   "source": [
    "    \n",
    "try:\n",
    "    for i in ['a','b','c']:\n",
    "        print (i**2)\n",
    "\n",
    "except TypeError :\n",
    "    print('nope')\n",
    "\n",
    "    "
   ]
  },
  {
   "cell_type": "markdown",
   "id": "bda76246",
   "metadata": {},
   "source": [
    "# Handle the exception thrown by the code below by using try and except blocks. \n",
    "\n",
    "Then use a finally block to print 'All Done.'\n",
    "\n",
    "Check in provided resources the type of error you may use. \n"
   ]
  },
  {
   "cell_type": "code",
   "execution_count": null,
   "id": "441acd1c",
   "metadata": {},
   "outputs": [
    {
     "ename": "ZeroDivisionError",
     "evalue": "division by zero",
     "output_type": "error",
     "traceback": [
      "\u001b[1;31m---------------------------------------------------------------------------\u001b[0m",
      "\u001b[1;31mZeroDivisionError\u001b[0m                         Traceback (most recent call last)",
      "Input \u001b[1;32mIn [74]\u001b[0m, in \u001b[0;36m<cell line: 4>\u001b[1;34m()\u001b[0m\n\u001b[0;32m      1\u001b[0m x \u001b[38;5;241m=\u001b[39m \u001b[38;5;241m5\u001b[39m\n\u001b[0;32m      2\u001b[0m y \u001b[38;5;241m=\u001b[39m \u001b[38;5;241m0\u001b[39m\n\u001b[1;32m----> 4\u001b[0m z \u001b[38;5;241m=\u001b[39m \u001b[43mx\u001b[49m\u001b[38;5;241;43m/\u001b[39;49m\u001b[43my\u001b[49m\n",
      "\u001b[1;31mZeroDivisionError\u001b[0m: division by zero"
     ]
    }
   ],
   "source": [
    "x = 5\n",
    "y = 0\n",
    "\n",
    "z = x/y"
   ]
  },
  {
   "cell_type": "code",
   "execution_count": null,
   "id": "976fec9f",
   "metadata": {},
   "outputs": [
    {
     "name": "stdout",
     "output_type": "stream",
     "text": [
      "nope\n",
      "all done\n"
     ]
    }
   ],
   "source": [
    "try:\n",
    "    x = 5\n",
    "    y = 0\n",
    "\n",
    "    z = x/y\n",
    "except ZeroDivisionError:\n",
    "    print('nope')\n",
    "finally:\n",
    "    print('all done')\n",
    "    \n",
    "\n",
    "    "
   ]
  },
  {
   "cell_type": "markdown",
   "id": "85ea78c5",
   "metadata": {},
   "source": [
    "# Handle the exception thrown by the code below by using try and except blocks. \n",
    "\n",
    "Check in provided resources the type of error you may use. \n"
   ]
  },
  {
   "cell_type": "code",
   "execution_count": null,
   "id": "783a8224",
   "metadata": {},
   "outputs": [
    {
     "ename": "IndexError",
     "evalue": "list index out of range",
     "output_type": "error",
     "traceback": [
      "\u001b[1;31m---------------------------------------------------------------------------\u001b[0m",
      "\u001b[1;31mIndexError\u001b[0m                                Traceback (most recent call last)",
      "Input \u001b[1;32mIn [65]\u001b[0m, in \u001b[0;36m<cell line: 2>\u001b[1;34m()\u001b[0m\n\u001b[0;32m      1\u001b[0m abc\u001b[38;5;241m=\u001b[39m[\u001b[38;5;241m10\u001b[39m,\u001b[38;5;241m20\u001b[39m,\u001b[38;5;241m20\u001b[39m]\n\u001b[1;32m----> 2\u001b[0m \u001b[38;5;28mprint\u001b[39m(\u001b[43mabc\u001b[49m\u001b[43m[\u001b[49m\u001b[38;5;241;43m3\u001b[39;49m\u001b[43m]\u001b[49m)\n",
      "\u001b[1;31mIndexError\u001b[0m: list index out of range"
     ]
    }
   ],
   "source": [
    "abc=[10,20,20]\n",
    "print(abc[3])"
   ]
  },
  {
   "cell_type": "code",
   "execution_count": null,
   "id": "cfcf15f0",
   "metadata": {},
   "outputs": [
    {
     "name": "stdout",
     "output_type": "stream",
     "text": [
      "Nope\n"
     ]
    }
   ],
   "source": [
    "try:\n",
    "    abc=[10,20,20]\n",
    "    print(abc[3])\n",
    "except IndexError:\n",
    "    print('Nope')\n",
    "    "
   ]
  },
  {
   "cell_type": "markdown",
   "id": "10223640",
   "metadata": {},
   "source": [
    "# Handle at least two kind of different exceptions when dividing a couple of numbers provided by the user. \n",
    "\n",
    "**Hint: take a look on python input function.**\n",
    "\n",
    "Check in provided resources the type of error you may use. "
   ]
  },
  {
   "cell_type": "code",
   "execution_count": null,
   "id": "3c1f141b",
   "metadata": {},
   "outputs": [
    {
     "name": "stdout",
     "output_type": "stream",
     "text": [
      "%\n",
      "not a number\n"
     ]
    }
   ],
   "source": [
    "try:\n",
    "    1/float(input())\n",
    "except ZeroDivisionError:\n",
    "    print('Input cannot be 0')\n",
    "except ValueError:\n",
    "    print('not a number')\n",
    "\n",
    "    "
   ]
  },
  {
   "cell_type": "markdown",
   "id": "5d712a55",
   "metadata": {},
   "source": [
    "# Handle the exception thrown by the code below by using try and except blocks. \n",
    "\n",
    "Check in provided resources the type of error you may use. "
   ]
  },
  {
   "cell_type": "code",
   "execution_count": null,
   "id": "b73f824c",
   "metadata": {},
   "outputs": [
    {
     "name": "stdout",
     "output_type": "stream",
     "text": [
      "nope\n"
     ]
    }
   ],
   "source": [
    "try:\n",
    "    f = open('testfile','r')\n",
    "    f.write('Test write this')\n",
    "except FileNotFoundError:\n",
    "    print('nope')"
   ]
  },
  {
   "cell_type": "code",
   "execution_count": null,
   "id": "5a1cb361",
   "metadata": {},
   "outputs": [],
   "source": []
  },
  {
   "cell_type": "markdown",
   "id": "a028ccb8",
   "metadata": {},
   "source": [
    "# Handle the exceptions that can be thrown by the code below using try and except blocks. \n",
    "\n",
    "**Hint: the file could not exist and the data could not be convertable to int**"
   ]
  },
  {
   "cell_type": "code",
   "execution_count": null,
   "id": "5f639ab1",
   "metadata": {},
   "outputs": [
    {
     "name": "stdout",
     "output_type": "stream",
     "text": [
      "nope\n"
     ]
    }
   ],
   "source": [
    "\n",
    "try:\n",
    "    fp = open('myfile.txt')\n",
    "    line = f.readline()\n",
    "except FileNotFoundError :\n",
    "    print('nope file')\n",
    "except:\n",
    "    print('other nopes')\n"
   ]
  },
  {
   "cell_type": "markdown",
   "id": "d695245b",
   "metadata": {},
   "source": [
    "# The following function can only run on a Linux system. \n",
    "The assert in this function will throw an exception if you call it on an operating system other than Linux.\n",
    "\n",
    "Handle this exception using **try and except** blocks.\n",
    "\n",
    "You will probably need to import sys "
   ]
  },
  {
   "cell_type": "code",
   "execution_count": null,
   "id": "3f043ef6",
   "metadata": {},
   "outputs": [
    {
     "ename": "AssertionError",
     "evalue": "Function can only run on Linux systems.",
     "output_type": "error",
     "traceback": [
      "\u001b[1;31m---------------------------------------------------------------------------\u001b[0m",
      "\u001b[1;31mAssertionError\u001b[0m                            Traceback (most recent call last)",
      "Input \u001b[1;32mIn [87]\u001b[0m, in \u001b[0;36m<cell line: 5>\u001b[1;34m()\u001b[0m\n\u001b[0;32m      3\u001b[0m     \u001b[38;5;28;01massert\u001b[39;00m (\u001b[38;5;124m'\u001b[39m\u001b[38;5;124mlinux\u001b[39m\u001b[38;5;124m'\u001b[39m \u001b[38;5;129;01min\u001b[39;00m sys\u001b[38;5;241m.\u001b[39mplatform), \u001b[38;5;124m\"\u001b[39m\u001b[38;5;124mFunction can only run on Linux systems.\u001b[39m\u001b[38;5;124m\"\u001b[39m\n\u001b[0;32m      4\u001b[0m     \u001b[38;5;28mprint\u001b[39m(\u001b[38;5;124m'\u001b[39m\u001b[38;5;124mDoing something.\u001b[39m\u001b[38;5;124m'\u001b[39m)\n\u001b[1;32m----> 5\u001b[0m \u001b[43mlinux_interaction\u001b[49m\u001b[43m(\u001b[49m\u001b[43m)\u001b[49m\n",
      "Input \u001b[1;32mIn [87]\u001b[0m, in \u001b[0;36mlinux_interaction\u001b[1;34m()\u001b[0m\n\u001b[0;32m      2\u001b[0m \u001b[38;5;28;01mdef\u001b[39;00m \u001b[38;5;21mlinux_interaction\u001b[39m():\n\u001b[1;32m----> 3\u001b[0m     \u001b[38;5;28;01massert\u001b[39;00m (\u001b[38;5;124m'\u001b[39m\u001b[38;5;124mlinux\u001b[39m\u001b[38;5;124m'\u001b[39m \u001b[38;5;129;01min\u001b[39;00m sys\u001b[38;5;241m.\u001b[39mplatform), \u001b[38;5;124m\"\u001b[39m\u001b[38;5;124mFunction can only run on Linux systems.\u001b[39m\u001b[38;5;124m\"\u001b[39m\n\u001b[0;32m      4\u001b[0m     \u001b[38;5;28mprint\u001b[39m(\u001b[38;5;124m'\u001b[39m\u001b[38;5;124mDoing something.\u001b[39m\u001b[38;5;124m'\u001b[39m)\n",
      "\u001b[1;31mAssertionError\u001b[0m: Function can only run on Linux systems."
     ]
    }
   ],
   "source": [
    "\n",
    "def linux_interaction():\n",
    "    assert ('linux' in sys.platform), \"Function can only run on Linux systems.\"\n",
    "    print('Doing something.')\n",
    "linux_interaction()"
   ]
  },
  {
   "cell_type": "code",
   "execution_count": null,
   "id": "1643bbed",
   "metadata": {},
   "outputs": [
    {
     "name": "stdout",
     "output_type": "stream",
     "text": [
      "nope\n"
     ]
    }
   ],
   "source": [
    "import sys\n",
    "try:\n",
    "    def linux_interaction():\n",
    "        assert ('linux' in sys.platform), \"Function can only run on Linux systems.\"\n",
    "        print('Doing something.')\n",
    "    linux_interaction()\n",
    "except AssertionError:\n",
    "    print('nope')"
   ]
  },
  {
   "cell_type": "markdown",
   "id": "9310a60b",
   "metadata": {},
   "source": [
    "\n",
    "# Bonus Questions:"
   ]
  },
  {
   "cell_type": "markdown",
   "id": "2f06d3fd",
   "metadata": {},
   "source": [
    "You will need to make some research on dictionary comprehension to solve the following questions"
   ]
  },
  {
   "cell_type": "markdown",
   "id": "3108ff54",
   "metadata": {},
   "source": [
    "## Write a function that asks for an integer and prints the square of it. \n",
    "\n",
    "**Hint: we need to continually keep checking until we get an integer.**\n",
    "\n",
    "Use a while loop with a try,except, else block to account for incorrect inputs."
   ]
  },
  {
   "cell_type": "code",
   "execution_count": null,
   "id": "94c2e76e",
   "metadata": {},
   "outputs": [
    {
     "name": "stdout",
     "output_type": "stream",
     "text": [
      "w\n",
      "input int\n",
      "w\n",
      "input int\n",
      "w\n",
      "input int\n",
      "w\n",
      "input int\n",
      "5\n",
      "25\n"
     ]
    }
   ],
   "source": [
    "def cuadrado():\n",
    "    i=True\n",
    "    while i is True:\n",
    "        try:\n",
    "            a=int(input())\n",
    "            print(a**2)\n",
    "            break\n",
    "        except:\n",
    "            print('input int')\n",
    "\n",
    "cuadrado()\n",
    "\n"
   ]
  },
  {
   "cell_type": "code",
   "execution_count": null,
   "id": "502d6ac7",
   "metadata": {},
   "outputs": [],
   "source": []
  },
  {
   "cell_type": "markdown",
   "id": "7139da39",
   "metadata": {},
   "source": [
    "\n",
    "## Find all of the numbers from 1-1000 that are divisible by any single digit besides 1 (2-9). \n",
    "\n",
    "Use results as the name of the list \n"
   ]
  },
  {
   "cell_type": "code",
   "execution_count": null,
   "id": "90d3aa37",
   "metadata": {},
   "outputs": [
    {
     "data": {
      "text/plain": [
       "[2,\n",
       " 3,\n",
       " 4,\n",
       " 4,\n",
       " 5,\n",
       " 6,\n",
       " 6,\n",
       " 6,\n",
       " 7,\n",
       " 8,\n",
       " 8,\n",
       " 8,\n",
       " 9,\n",
       " 10,\n",
       " 10,\n",
       " 12,\n",
       " 12,\n",
       " 12,\n",
       " 12,\n",
       " 14,\n",
       " 14,\n",
       " 15,\n",
       " 15,\n",
       " 16,\n",
       " 16,\n",
       " 16,\n",
       " 18,\n",
       " 18,\n",
       " 18,\n",
       " 20,\n",
       " 20,\n",
       " 20,\n",
       " 21,\n",
       " 21,\n",
       " 22,\n",
       " 24,\n",
       " 24,\n",
       " 24,\n",
       " 24,\n",
       " 24,\n",
       " 25,\n",
       " 26,\n",
       " 27,\n",
       " 28,\n",
       " 28,\n",
       " 28,\n",
       " 30,\n",
       " 30,\n",
       " 30,\n",
       " 30,\n",
       " 32,\n",
       " 32,\n",
       " 32,\n",
       " 33,\n",
       " 34,\n",
       " 35,\n",
       " 35,\n",
       " 36,\n",
       " 36,\n",
       " 36,\n",
       " 36,\n",
       " 38,\n",
       " 39,\n",
       " 40,\n",
       " 40,\n",
       " 40,\n",
       " 40,\n",
       " 42,\n",
       " 42,\n",
       " 42,\n",
       " 42,\n",
       " 44,\n",
       " 44,\n",
       " 45,\n",
       " 45,\n",
       " 46,\n",
       " 48,\n",
       " 48,\n",
       " 48,\n",
       " 48,\n",
       " 48,\n",
       " 49,\n",
       " 50,\n",
       " 50,\n",
       " 51,\n",
       " 52,\n",
       " 52,\n",
       " 54,\n",
       " 54,\n",
       " 54,\n",
       " 55,\n",
       " 56,\n",
       " 56,\n",
       " 56,\n",
       " 56,\n",
       " 57,\n",
       " 58,\n",
       " 60,\n",
       " 60,\n",
       " 60,\n",
       " 60,\n",
       " 60,\n",
       " 62,\n",
       " 63,\n",
       " 63,\n",
       " 64,\n",
       " 64,\n",
       " 64,\n",
       " 65,\n",
       " 66,\n",
       " 66,\n",
       " 66,\n",
       " 68,\n",
       " 68,\n",
       " 69,\n",
       " 70,\n",
       " 70,\n",
       " 70,\n",
       " 72,\n",
       " 72,\n",
       " 72,\n",
       " 72,\n",
       " 72,\n",
       " 74,\n",
       " 75,\n",
       " 75,\n",
       " 76,\n",
       " 76,\n",
       " 77,\n",
       " 78,\n",
       " 78,\n",
       " 78,\n",
       " 80,\n",
       " 80,\n",
       " 80,\n",
       " 80,\n",
       " 81,\n",
       " 82,\n",
       " 84,\n",
       " 84,\n",
       " 84,\n",
       " 84,\n",
       " 84,\n",
       " 85,\n",
       " 86,\n",
       " 87,\n",
       " 88,\n",
       " 88,\n",
       " 88,\n",
       " 90,\n",
       " 90,\n",
       " 90,\n",
       " 90,\n",
       " 91,\n",
       " 92,\n",
       " 92,\n",
       " 93,\n",
       " 94,\n",
       " 95,\n",
       " 96,\n",
       " 96,\n",
       " 96,\n",
       " 96,\n",
       " 96,\n",
       " 98,\n",
       " 98,\n",
       " 99,\n",
       " 100,\n",
       " 100,\n",
       " 100,\n",
       " 102,\n",
       " 102,\n",
       " 102,\n",
       " 104,\n",
       " 104,\n",
       " 104,\n",
       " 105,\n",
       " 105,\n",
       " 105,\n",
       " 106,\n",
       " 108,\n",
       " 108,\n",
       " 108,\n",
       " 108,\n",
       " 110,\n",
       " 110,\n",
       " 111,\n",
       " 112,\n",
       " 112,\n",
       " 112,\n",
       " 112,\n",
       " 114,\n",
       " 114,\n",
       " 114,\n",
       " 115,\n",
       " 116,\n",
       " 116,\n",
       " 117,\n",
       " 118,\n",
       " 119,\n",
       " 120,\n",
       " 120,\n",
       " 120,\n",
       " 120,\n",
       " 120,\n",
       " 120,\n",
       " 122,\n",
       " 123,\n",
       " 124,\n",
       " 124,\n",
       " 125,\n",
       " 126,\n",
       " 126,\n",
       " 126,\n",
       " 126,\n",
       " 128,\n",
       " 128,\n",
       " 128,\n",
       " 129,\n",
       " 130,\n",
       " 130,\n",
       " 132,\n",
       " 132,\n",
       " 132,\n",
       " 132,\n",
       " 133,\n",
       " 134,\n",
       " 135,\n",
       " 135,\n",
       " 136,\n",
       " 136,\n",
       " 136,\n",
       " 138,\n",
       " 138,\n",
       " 138,\n",
       " 140,\n",
       " 140,\n",
       " 140,\n",
       " 140,\n",
       " 141,\n",
       " 142,\n",
       " 144,\n",
       " 144,\n",
       " 144,\n",
       " 144,\n",
       " 144,\n",
       " 145,\n",
       " 146,\n",
       " 147,\n",
       " 147,\n",
       " 148,\n",
       " 148,\n",
       " 150,\n",
       " 150,\n",
       " 150,\n",
       " 150,\n",
       " 152,\n",
       " 152,\n",
       " 152,\n",
       " 153,\n",
       " 154,\n",
       " 154,\n",
       " 155,\n",
       " 156,\n",
       " 156,\n",
       " 156,\n",
       " 156,\n",
       " 158,\n",
       " 159,\n",
       " 160,\n",
       " 160,\n",
       " 160,\n",
       " 160,\n",
       " 161,\n",
       " 162,\n",
       " 162,\n",
       " 162,\n",
       " 164,\n",
       " 164,\n",
       " 165,\n",
       " 165,\n",
       " 166,\n",
       " 168,\n",
       " 168,\n",
       " 168,\n",
       " 168,\n",
       " 168,\n",
       " 168,\n",
       " 170,\n",
       " 170,\n",
       " 171,\n",
       " 172,\n",
       " 172,\n",
       " 174,\n",
       " 174,\n",
       " 174,\n",
       " 175,\n",
       " 175,\n",
       " 176,\n",
       " 176,\n",
       " 176,\n",
       " 177,\n",
       " 178,\n",
       " 180,\n",
       " 180,\n",
       " 180,\n",
       " 180,\n",
       " 180,\n",
       " 182,\n",
       " 182,\n",
       " 183,\n",
       " 184,\n",
       " 184,\n",
       " 184,\n",
       " 185,\n",
       " 186,\n",
       " 186,\n",
       " 186,\n",
       " 188,\n",
       " 188,\n",
       " 189,\n",
       " 189,\n",
       " 190,\n",
       " 190,\n",
       " 192,\n",
       " 192,\n",
       " 192,\n",
       " 192,\n",
       " 192,\n",
       " 194,\n",
       " 195,\n",
       " 195,\n",
       " 196,\n",
       " 196,\n",
       " 196,\n",
       " 198,\n",
       " 198,\n",
       " 198,\n",
       " 200,\n",
       " 200,\n",
       " 200,\n",
       " 200,\n",
       " 201,\n",
       " 202,\n",
       " 203,\n",
       " 204,\n",
       " 204,\n",
       " 204,\n",
       " 204,\n",
       " 205,\n",
       " 206,\n",
       " 207,\n",
       " 208,\n",
       " 208,\n",
       " 208,\n",
       " 210,\n",
       " 210,\n",
       " 210,\n",
       " 210,\n",
       " 210,\n",
       " 212,\n",
       " 212,\n",
       " 213,\n",
       " 214,\n",
       " 215,\n",
       " 216,\n",
       " 216,\n",
       " 216,\n",
       " 216,\n",
       " 216,\n",
       " 217,\n",
       " 218,\n",
       " 219,\n",
       " 220,\n",
       " 220,\n",
       " 220,\n",
       " 222,\n",
       " 222,\n",
       " 222,\n",
       " 224,\n",
       " 224,\n",
       " 224,\n",
       " 224,\n",
       " 225,\n",
       " 225,\n",
       " 226,\n",
       " 228,\n",
       " 228,\n",
       " 228,\n",
       " 228,\n",
       " 230,\n",
       " 230,\n",
       " 231,\n",
       " 231,\n",
       " 232,\n",
       " 232,\n",
       " 232,\n",
       " 234,\n",
       " 234,\n",
       " 234,\n",
       " 235,\n",
       " 236,\n",
       " 236,\n",
       " 237,\n",
       " 238,\n",
       " 238,\n",
       " 240,\n",
       " 240,\n",
       " 240,\n",
       " 240,\n",
       " 240,\n",
       " 240,\n",
       " 242,\n",
       " 243,\n",
       " 244,\n",
       " 244,\n",
       " 245,\n",
       " 245,\n",
       " 246,\n",
       " 246,\n",
       " 246,\n",
       " 248,\n",
       " 248,\n",
       " 248,\n",
       " 249,\n",
       " 250,\n",
       " 250,\n",
       " 252,\n",
       " 252,\n",
       " 252,\n",
       " 252,\n",
       " 252,\n",
       " 254,\n",
       " 255,\n",
       " 255,\n",
       " 256,\n",
       " 256,\n",
       " 256,\n",
       " 258,\n",
       " 258,\n",
       " 258,\n",
       " 259,\n",
       " 260,\n",
       " 260,\n",
       " 260,\n",
       " 261,\n",
       " 262,\n",
       " 264,\n",
       " 264,\n",
       " 264,\n",
       " 264,\n",
       " 264,\n",
       " 265,\n",
       " 266,\n",
       " 266,\n",
       " 267,\n",
       " 268,\n",
       " 268,\n",
       " 270,\n",
       " 270,\n",
       " 270,\n",
       " 270,\n",
       " 272,\n",
       " 272,\n",
       " 272,\n",
       " 273,\n",
       " 273,\n",
       " 274,\n",
       " 275,\n",
       " 276,\n",
       " 276,\n",
       " 276,\n",
       " 276,\n",
       " 278,\n",
       " 279,\n",
       " 280,\n",
       " 280,\n",
       " 280,\n",
       " 280,\n",
       " 280,\n",
       " 282,\n",
       " 282,\n",
       " 282,\n",
       " 284,\n",
       " 284,\n",
       " 285,\n",
       " 285,\n",
       " 286,\n",
       " 287,\n",
       " 288,\n",
       " 288,\n",
       " 288,\n",
       " 288,\n",
       " 288,\n",
       " 290,\n",
       " 290,\n",
       " 291,\n",
       " 292,\n",
       " 292,\n",
       " 294,\n",
       " 294,\n",
       " 294,\n",
       " 294,\n",
       " 295,\n",
       " 296,\n",
       " 296,\n",
       " 296,\n",
       " 297,\n",
       " 298,\n",
       " 300,\n",
       " 300,\n",
       " 300,\n",
       " 300,\n",
       " 300,\n",
       " 301,\n",
       " 302,\n",
       " 303,\n",
       " 304,\n",
       " 304,\n",
       " 304,\n",
       " 305,\n",
       " 306,\n",
       " 306,\n",
       " 306,\n",
       " 308,\n",
       " 308,\n",
       " 308,\n",
       " 309,\n",
       " 310,\n",
       " 310,\n",
       " 312,\n",
       " 312,\n",
       " 312,\n",
       " 312,\n",
       " 312,\n",
       " 314,\n",
       " 315,\n",
       " 315,\n",
       " 315,\n",
       " 316,\n",
       " 316,\n",
       " 318,\n",
       " 318,\n",
       " 318,\n",
       " 320,\n",
       " 320,\n",
       " 320,\n",
       " 320,\n",
       " 321,\n",
       " 322,\n",
       " 322,\n",
       " 324,\n",
       " 324,\n",
       " 324,\n",
       " 324,\n",
       " 325,\n",
       " 326,\n",
       " 327,\n",
       " 328,\n",
       " 328,\n",
       " 328,\n",
       " 329,\n",
       " 330,\n",
       " 330,\n",
       " 330,\n",
       " 330,\n",
       " 332,\n",
       " 332,\n",
       " 333,\n",
       " 334,\n",
       " 335,\n",
       " 336,\n",
       " 336,\n",
       " 336,\n",
       " 336,\n",
       " 336,\n",
       " 336,\n",
       " 338,\n",
       " 339,\n",
       " 340,\n",
       " 340,\n",
       " 340,\n",
       " 342,\n",
       " 342,\n",
       " 342,\n",
       " 343,\n",
       " 344,\n",
       " 344,\n",
       " 344,\n",
       " 345,\n",
       " 345,\n",
       " 346,\n",
       " 348,\n",
       " 348,\n",
       " 348,\n",
       " 348,\n",
       " 350,\n",
       " 350,\n",
       " 350,\n",
       " 351,\n",
       " 352,\n",
       " 352,\n",
       " 352,\n",
       " 354,\n",
       " 354,\n",
       " 354,\n",
       " 355,\n",
       " 356,\n",
       " 356,\n",
       " 357,\n",
       " 357,\n",
       " 358,\n",
       " 360,\n",
       " 360,\n",
       " 360,\n",
       " 360,\n",
       " 360,\n",
       " 360,\n",
       " 362,\n",
       " 363,\n",
       " 364,\n",
       " 364,\n",
       " 364,\n",
       " 365,\n",
       " 366,\n",
       " 366,\n",
       " 366,\n",
       " 368,\n",
       " 368,\n",
       " 368,\n",
       " 369,\n",
       " 370,\n",
       " 370,\n",
       " 371,\n",
       " 372,\n",
       " 372,\n",
       " 372,\n",
       " 372,\n",
       " 374,\n",
       " 375,\n",
       " 375,\n",
       " 376,\n",
       " 376,\n",
       " 376,\n",
       " 378,\n",
       " 378,\n",
       " 378,\n",
       " 378,\n",
       " 380,\n",
       " 380,\n",
       " 380,\n",
       " 381,\n",
       " 382,\n",
       " 384,\n",
       " 384,\n",
       " 384,\n",
       " 384,\n",
       " 384,\n",
       " 385,\n",
       " 385,\n",
       " 386,\n",
       " 387,\n",
       " 388,\n",
       " 388,\n",
       " 390,\n",
       " 390,\n",
       " 390,\n",
       " 390,\n",
       " 392,\n",
       " 392,\n",
       " 392,\n",
       " 392,\n",
       " 393,\n",
       " 394,\n",
       " 395,\n",
       " 396,\n",
       " 396,\n",
       " 396,\n",
       " 396,\n",
       " 398,\n",
       " 399,\n",
       " 399,\n",
       " 400,\n",
       " 400,\n",
       " 400,\n",
       " 400,\n",
       " 402,\n",
       " 402,\n",
       " 402,\n",
       " 404,\n",
       " 404,\n",
       " 405,\n",
       " 405,\n",
       " 406,\n",
       " 406,\n",
       " 408,\n",
       " 408,\n",
       " 408,\n",
       " 408,\n",
       " 408,\n",
       " 410,\n",
       " 410,\n",
       " 411,\n",
       " 412,\n",
       " 412,\n",
       " 413,\n",
       " 414,\n",
       " 414,\n",
       " 414,\n",
       " 415,\n",
       " 416,\n",
       " 416,\n",
       " 416,\n",
       " 417,\n",
       " 418,\n",
       " 420,\n",
       " 420,\n",
       " 420,\n",
       " 420,\n",
       " 420,\n",
       " 420,\n",
       " 422,\n",
       " 423,\n",
       " 424,\n",
       " 424,\n",
       " 424,\n",
       " 425,\n",
       " 426,\n",
       " 426,\n",
       " 426,\n",
       " 427,\n",
       " 428,\n",
       " 428,\n",
       " 429,\n",
       " 430,\n",
       " 430,\n",
       " 432,\n",
       " 432,\n",
       " 432,\n",
       " 432,\n",
       " 432,\n",
       " 434,\n",
       " 434,\n",
       " 435,\n",
       " 435,\n",
       " 436,\n",
       " 436,\n",
       " 438,\n",
       " 438,\n",
       " 438,\n",
       " 440,\n",
       " 440,\n",
       " 440,\n",
       " 440,\n",
       " 441,\n",
       " 441,\n",
       " 442,\n",
       " 444,\n",
       " 444,\n",
       " 444,\n",
       " 444,\n",
       " 445,\n",
       " 446,\n",
       " 447,\n",
       " 448,\n",
       " 448,\n",
       " 448,\n",
       " 448,\n",
       " 450,\n",
       " 450,\n",
       " 450,\n",
       " 450,\n",
       " 452,\n",
       " 452,\n",
       " 453,\n",
       " 454,\n",
       " 455,\n",
       " 455,\n",
       " 456,\n",
       " 456,\n",
       " 456,\n",
       " 456,\n",
       " 456,\n",
       " 458,\n",
       " 459,\n",
       " 460,\n",
       " 460,\n",
       " 460,\n",
       " 462,\n",
       " 462,\n",
       " 462,\n",
       " 462,\n",
       " 464,\n",
       " 464,\n",
       " 464,\n",
       " 465,\n",
       " 465,\n",
       " 466,\n",
       " 468,\n",
       " 468,\n",
       " 468,\n",
       " 468,\n",
       " 469,\n",
       " 470,\n",
       " 470,\n",
       " 471,\n",
       " 472,\n",
       " 472,\n",
       " 472,\n",
       " 474,\n",
       " 474,\n",
       " 474,\n",
       " 475,\n",
       " 476,\n",
       " 476,\n",
       " 476,\n",
       " 477,\n",
       " 478,\n",
       " 480,\n",
       " 480,\n",
       " 480,\n",
       " 480,\n",
       " 480,\n",
       " 480,\n",
       " 482,\n",
       " 483,\n",
       " 483,\n",
       " 484,\n",
       " 484,\n",
       " 485,\n",
       " 486,\n",
       " 486,\n",
       " 486,\n",
       " 488,\n",
       " 488,\n",
       " 488,\n",
       " 489,\n",
       " 490,\n",
       " 490,\n",
       " 490,\n",
       " 492,\n",
       " 492,\n",
       " 492,\n",
       " 492,\n",
       " 494,\n",
       " 495,\n",
       " 495,\n",
       " 496,\n",
       " 496,\n",
       " 496,\n",
       " 497,\n",
       " 498,\n",
       " 498,\n",
       " 498,\n",
       " 500,\n",
       " 500,\n",
       " 500,\n",
       " 501,\n",
       " 502,\n",
       " 504,\n",
       " 504,\n",
       " 504,\n",
       " 504,\n",
       " 504,\n",
       " 504,\n",
       " 505,\n",
       " 506,\n",
       " 507,\n",
       " 508,\n",
       " 508,\n",
       " 510,\n",
       " 510,\n",
       " 510,\n",
       " 510,\n",
       " 511,\n",
       " 512,\n",
       " 512,\n",
       " 512,\n",
       " 513,\n",
       " 514,\n",
       " 515,\n",
       " 516,\n",
       " 516,\n",
       " 516,\n",
       " 516,\n",
       " 518,\n",
       " 518,\n",
       " 519,\n",
       " 520,\n",
       " 520,\n",
       " 520,\n",
       " 520,\n",
       " 522,\n",
       " 522,\n",
       " 522,\n",
       " 524,\n",
       " 524,\n",
       " 525,\n",
       " 525,\n",
       " 525,\n",
       " 526,\n",
       " 528,\n",
       " 528,\n",
       " 528,\n",
       " 528,\n",
       " 528,\n",
       " 530,\n",
       " 530,\n",
       " 531,\n",
       " 532,\n",
       " 532,\n",
       " 532,\n",
       " 534,\n",
       " 534,\n",
       " 534,\n",
       " 535,\n",
       " 536,\n",
       " 536,\n",
       " 536,\n",
       " 537,\n",
       " 538,\n",
       " 539,\n",
       " 540,\n",
       " 540,\n",
       " 540,\n",
       " 540,\n",
       " 540,\n",
       " 542,\n",
       " 543,\n",
       " 544,\n",
       " 544,\n",
       " 544,\n",
       " 545,\n",
       " 546,\n",
       " 546,\n",
       " 546,\n",
       " 546,\n",
       " 548,\n",
       " 548,\n",
       " 549,\n",
       " 550,\n",
       " 550,\n",
       " 552,\n",
       " 552,\n",
       " 552,\n",
       " 552,\n",
       " 552,\n",
       " 553,\n",
       " 554,\n",
       " 555,\n",
       " 555,\n",
       " 556,\n",
       " 556,\n",
       " 558,\n",
       " 558,\n",
       " 558,\n",
       " 560,\n",
       " 560,\n",
       " 560,\n",
       " 560,\n",
       " 560,\n",
       " 561,\n",
       " 562,\n",
       " 564,\n",
       " 564,\n",
       " 564,\n",
       " 564,\n",
       " 565,\n",
       " 566,\n",
       " 567,\n",
       " 567,\n",
       " 568,\n",
       " 568,\n",
       " 568,\n",
       " 570,\n",
       " 570,\n",
       " 570,\n",
       " 570,\n",
       " 572,\n",
       " 572,\n",
       " 573,\n",
       " 574,\n",
       " 574,\n",
       " 575,\n",
       " 576,\n",
       " 576,\n",
       " 576,\n",
       " 576,\n",
       " 576,\n",
       " 578,\n",
       " 579,\n",
       " 580,\n",
       " 580,\n",
       " 580,\n",
       " 581,\n",
       " 582,\n",
       " 582,\n",
       " 582,\n",
       " 584,\n",
       " 584,\n",
       " ...]"
      ]
     },
     "execution_count": 138,
     "metadata": {},
     "output_type": "execute_result"
    }
   ],
   "source": [
    "divs=[]\n",
    "for x in range(1,10000):\n",
    "    for y in range(2,9):\n",
    "        if x%y==0:\n",
    "            divs.append(x)\n",
    "\n",
    "\n",
    "divs"
   ]
  },
  {
   "cell_type": "markdown",
   "id": "e4791228",
   "metadata": {},
   "source": [
    "## Define a customised exception to handle not accepted values. \n",
    "\n",
    "You have the following user inputs and the Num_of_sections can not be less than 2.\n",
    "\n",
    "**Hint: Create a class derived from the pre-defined Exception class in Python**"
   ]
  },
  {
   "cell_type": "code",
   "execution_count": null,
   "id": "86fa19bf",
   "metadata": {},
   "outputs": [
    {
     "name": "stdout",
     "output_type": "stream",
     "text": [
      "Enter Total Marks Scored: ass\n"
     ]
    },
    {
     "ename": "ValueError",
     "evalue": "invalid literal for int() with base 10: 'ass'",
     "output_type": "error",
     "traceback": [
      "\u001b[0;31m---------------------------------------------------------------------------\u001b[0m",
      "\u001b[0;31mValueError\u001b[0m                                Traceback (most recent call last)",
      "\u001b[0;32m<ipython-input-6-94b26594c4c4>\u001b[0m in \u001b[0;36m<module>\u001b[0;34m\u001b[0m\n\u001b[0;32m----> 1\u001b[0;31m \u001b[0mTotal_Marks\u001b[0m \u001b[0;34m=\u001b[0m \u001b[0mint\u001b[0m\u001b[0;34m(\u001b[0m\u001b[0minput\u001b[0m\u001b[0;34m(\u001b[0m\u001b[0;34m\"Enter Total Marks Scored: \"\u001b[0m\u001b[0;34m)\u001b[0m\u001b[0;34m)\u001b[0m\u001b[0;34m\u001b[0m\u001b[0;34m\u001b[0m\u001b[0m\n\u001b[0m\u001b[1;32m      2\u001b[0m \u001b[0mNum_of_Sections\u001b[0m \u001b[0;34m=\u001b[0m \u001b[0mint\u001b[0m\u001b[0;34m(\u001b[0m\u001b[0minput\u001b[0m\u001b[0;34m(\u001b[0m\u001b[0;34m\"Enter Num of Sections: \"\u001b[0m\u001b[0;34m)\u001b[0m\u001b[0;34m)\u001b[0m\u001b[0;34m\u001b[0m\u001b[0;34m\u001b[0m\u001b[0m\n",
      "\u001b[0;31mValueError\u001b[0m: invalid literal for int() with base 10: 'ass'"
     ]
    }
   ],
   "source": [
    "Total_Marks = int(input(\"Enter Total Marks Scored: \")) \n",
    "Num_of_Sections = int(input(\"Enter Num of Sections: \"))"
   ]
  },
  {
   "cell_type": "code",
   "execution_count": 20,
   "id": "f80bb764",
   "metadata": {},
   "outputs": [],
   "source": [
    "class smaller_than_2(Exception):\n",
    "    pass\n",
    "try:\n",
    "    Total_Marks = int(input(\"Enter Total Marks Scored: \")) \n",
    "    Num_of_Sections = int(input(\"Enter Num of Sections: \"))\n",
    "    if Num_of_Sections<2:\n",
    "        raise smaller_than_2\n",
    "except smaller_than_2:\n",
    "    print('Num_of_Sections must be larger than 2')\n",
    "    \n",
    "\n",
    "    "
   ]
  },
  {
   "cell_type": "code",
   "execution_count": null,
   "id": "12a97caf",
   "metadata": {},
   "outputs": [],
   "source": []
  }
 ],
 "metadata": {
  "kernelspec": {
   "display_name": "Python 3 (ipykernel)",
   "language": "python",
   "name": "python3"
  },
  "language_info": {
   "codemirror_mode": {
    "name": "ipython",
    "version": 3
   },
   "file_extension": ".py",
   "mimetype": "text/x-python",
   "name": "python",
   "nbconvert_exporter": "python",
   "pygments_lexer": "ipython3",
   "version": "3.9.7"
  },
  "toc": {
   "base_numbering": 1,
   "nav_menu": {},
   "number_sections": true,
   "sideBar": true,
   "skip_h1_title": false,
   "title_cell": "Table of Contents",
   "title_sidebar": "Contents",
   "toc_cell": false,
   "toc_position": {},
   "toc_section_display": true,
   "toc_window_display": false
  }
 },
 "nbformat": 4,
 "nbformat_minor": 5
}
